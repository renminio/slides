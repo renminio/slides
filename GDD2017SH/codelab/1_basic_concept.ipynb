{
 "cells": [
  {
   "cell_type": "markdown",
   "metadata": {},
   "source": [
    "# 任务1 熟悉TensorFlow基本概念"
   ]
  },
  {
   "cell_type": "code",
   "execution_count": null,
   "metadata": {},
   "outputs": [],
   "source": [
    "import tensorflow as tf\n",
    "\n",
    "graph = tf.Graph()\n",
    "with graph.as_default():\n",
    "    i = tf.placeholder(tf.float32,\n",
    "                       shape=(None, 1),\n",
    "                       name=\"i\")\n",
    "    a = tf.Variable(tf.constant(10.0, shape=[1]), name=\"a\")\n",
    "    b = tf.Variable(tf.constant(20.0, shape=[1]), name=\"b\")\n",
    "    n1 = tf.add(i, a, name=\"n1\")\n",
    "    n2 = tf.add(i, b, name=\"n2\")\n",
    "    n3 = tf.add(n1, n2, name=\"n3\")\n",
    "print(\"OK\")"
   ]
  },
  {
   "cell_type": "code",
   "execution_count": null,
   "metadata": {},
   "outputs": [],
   "source": [
    "import numpy as np\n",
    "with tf.Session(graph=graph) as sess:\n",
    "    sess.run(tf.global_variables_initializer())\n",
    "    input_data = np.array([2]).reshape(-1, 1)\n",
    "    output = sess.run(n3, feed_dict={i: input_data})\n",
    "    print(output)"
   ]
  },
  {
   "cell_type": "code",
   "execution_count": null,
   "metadata": {},
   "outputs": [],
   "source": [
    "graph.as_graph_def()"
   ]
  },
  {
   "cell_type": "code",
   "execution_count": null,
   "metadata": {},
   "outputs": [],
   "source": []
  }
 ],
 "metadata": {
  "kernelspec": {
   "display_name": "Python 2",
   "language": "python",
   "name": "python2"
  },
  "language_info": {
   "codemirror_mode": {
    "name": "ipython",
    "version": 2
   },
   "file_extension": ".py",
   "mimetype": "text/x-python",
   "name": "python",
   "nbconvert_exporter": "python",
   "pygments_lexer": "ipython2",
   "version": "2.7.12"
  }
 },
 "nbformat": 4,
 "nbformat_minor": 2
}
