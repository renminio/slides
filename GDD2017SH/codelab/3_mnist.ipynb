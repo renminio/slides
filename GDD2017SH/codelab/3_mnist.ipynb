{
 "cells": [
  {
   "cell_type": "markdown",
   "metadata": {},
   "source": [
    "# 任务3 手写体数字识别MNIST\n",
    "MNIST是机器学习届的 *Hello World*\n",
    "\n",
    "0-9共10个数字。每个数字6000个训练图片，1000个测试图片。\n",
    "每个图片为28x28灰度。\n",
    "\n",
    "## 大纲\n",
    "- 实验数据准备\n",
    "- Keras实现一个CNN\n",
    "- Keras Model转为Estimator"
   ]
  },
  {
   "cell_type": "markdown",
   "metadata": {},
   "source": [
    "## 实验数据准备"
   ]
  },
  {
   "cell_type": "code",
   "execution_count": null,
   "metadata": {},
   "outputs": [],
   "source": [
    "import tensorflow as tf\n",
    "\n",
    "(x_train, y_train), (x_test, y_test) = tf.keras.datasets.mnist.load_data()\n",
    "print(\"Done\")\n",
    "\n",
    "print(x_train.shape)\n",
    "print(y_train.shape)\n",
    "print(x_test.shape)\n",
    "print(y_test.shape)"
   ]
  },
  {
   "cell_type": "markdown",
   "metadata": {},
   "source": [
    "## 可视化数据"
   ]
  },
  {
   "cell_type": "code",
   "execution_count": null,
   "metadata": {},
   "outputs": [],
   "source": [
    "import matplotlib.pyplot as plt\n",
    "import random\n",
    "\n",
    "%matplotlib inline\n",
    "%config InlineBackend.figure_format = 'retina'\n",
    "\n",
    "def show_data(x, y):\n",
    "    plt.figure()\n",
    "    for i in range(15):\n",
    "        plt.subplot(3, 5, i+1)\n",
    "        index = random.randint(0, x.shape[0])\n",
    "        plt.title(str(y[index]))\n",
    "        plt.imshow(x[index], cmap='gray')\n",
    "        plt.axis('off')\n",
    "\n",
    "show_data(x_train, y_train)\n",
    "show_data(x_test, y_test)"
   ]
  },
  {
   "cell_type": "markdown",
   "metadata": {},
   "source": [
    "## 数据预处理\n",
    "- 将0-255灰度值转换为0-1浮点数，并该shape为4维（低层库兼容处理彩色）\n",
    "- 将0-9类别信息进行onehot编码"
   ]
  },
  {
   "cell_type": "code",
   "execution_count": null,
   "metadata": {},
   "outputs": [],
   "source": [
    "def convert_image(x):\n",
    "    x = x.reshape(x.shape[0], x.shape[1], x.shape[2], 1)\n",
    "    x = x.astype('float32')\n",
    "    x /= 255.0\n",
    "    return x\n",
    "\n",
    "def convert_label(y, num_classes=10):\n",
    "    return tf.keras.utils.to_categorical(y, num_classes)\n",
    "\n",
    "x_train = convert_image(x_train)\n",
    "x_test = convert_image(x_test)\n",
    "y_train = convert_label(y_train)\n",
    "y_test = convert_label(y_test)"
   ]
  },
  {
   "cell_type": "markdown",
   "metadata": {},
   "source": [
    "## Keras实现一个CNN"
   ]
  },
  {
   "cell_type": "markdown",
   "metadata": {},
   "source": [
    "### 定义模型"
   ]
  },
  {
   "cell_type": "code",
   "execution_count": null,
   "metadata": {},
   "outputs": [],
   "source": [
    "def get_model(input_shape, num_classes):\n",
    "    model = tf.keras.models.Sequential()\n",
    "    model.add(tf.keras.layers.InputLayer(\n",
    "        input_shape=input_shape,\n",
    "        name = 'my_input'))\n",
    "    model.add(tf.keras.layers.Conv2D(32, (3, 3), activation='relu'))\n",
    "    model.add(tf.keras.layers.Conv2D(64, (3, 3), activation='relu'))\n",
    "    model.add(tf.keras.layers.MaxPooling2D(pool_size=(2, 2)))\n",
    "    model.add(tf.keras.layers.Dropout(0.25))\n",
    "    model.add(tf.keras.layers.Flatten())\n",
    "    model.add(tf.keras.layers.Dense(128, activation='relu'))\n",
    "    model.add(tf.keras.layers.Dropout(0.5))\n",
    "    model.add(tf.keras.layers.Dense(num_classes, activation='softmax'))\n",
    "    model.compile(loss=tf.keras.losses.categorical_crossentropy,\n",
    "                  optimizer=tf.keras.optimizers.Adadelta(),\n",
    "                  metrics=['accuracy'])\n",
    "    return model\n",
    "\n",
    "# x_train.shape的第一个维度是样本\n",
    "model = get_model(x_train.shape[1:], num_classes = 10)"
   ]
  },
  {
   "cell_type": "markdown",
   "metadata": {},
   "source": [
    "### 查看模型结构"
   ]
  },
  {
   "cell_type": "code",
   "execution_count": null,
   "metadata": {},
   "outputs": [],
   "source": [
    "model.summary()"
   ]
  },
  {
   "cell_type": "markdown",
   "metadata": {},
   "source": [
    "### 训练"
   ]
  },
  {
   "cell_type": "code",
   "execution_count": null,
   "metadata": {
    "scrolled": true
   },
   "outputs": [],
   "source": [
    "batch_size = 128\n",
    "# The larger epochs, the better. Here we just use 2 for quick demo.\n",
    "epochs = 1\n",
    "\n",
    "history = model.fit(x_train, y_train, \n",
    "                    batch_size = batch_size,\n",
    "                    epochs = epochs, verbose=1)\n",
    "print('done')"
   ]
  },
  {
   "cell_type": "markdown",
   "metadata": {},
   "source": [
    "### 推断"
   ]
  },
  {
   "cell_type": "code",
   "execution_count": null,
   "metadata": {},
   "outputs": [],
   "source": [
    "score = model.evaluate(x_test, y_test, verbose=0)\n",
    "print('Test loss:', score[0])\n",
    "print('Test accuracy:', score[1])"
   ]
  },
  {
   "cell_type": "markdown",
   "metadata": {},
   "source": [
    "# 回slides讲解\n",
    "- Conv2D\n",
    "- MaxPooling2D\n",
    "- Dropout\n",
    "- Dense\n",
    "- Crossentropy"
   ]
  },
  {
   "cell_type": "markdown",
   "metadata": {},
   "source": [
    "## Estimator"
   ]
  },
  {
   "cell_type": "code",
   "execution_count": null,
   "metadata": {
    "scrolled": true
   },
   "outputs": [],
   "source": [
    "estimator = tf.keras.estimator.model_to_estimator(\n",
    "    keras_model = model)\n",
    "\n",
    "train_input_fn = tf.estimator.inputs.numpy_input_fn(\n",
    "    x={'my_input': x_train},\n",
    "    y=y_train.astype('float32'),\n",
    "    shuffle=True,\n",
    "    batch_size=batch_size,\n",
    "    num_epochs=epochs)\n",
    "\n",
    "estimator = estimator.train(input_fn=train_input_fn)"
   ]
  },
  {
   "cell_type": "markdown",
   "metadata": {},
   "source": [
    "### 测试"
   ]
  },
  {
   "cell_type": "code",
   "execution_count": null,
   "metadata": {},
   "outputs": [],
   "source": [
    "# Define the test inputs\n",
    "test_input_fn = tf.estimator.inputs.numpy_input_fn(\n",
    "    x={\"my_input\": x_test},\n",
    "    y=y_test.astype('float32'),\n",
    "    num_epochs=1,\n",
    "    shuffle=False)\n",
    "estimator.evaluate(input_fn=test_input_fn)\n"
   ]
  },
  {
   "cell_type": "markdown",
   "metadata": {},
   "source": [
    "# 看一下TensorBoard\n",
    "Keras Model转为Estimator的好处是可以更有效的利用TensorFlow的工具和其它功能，如TensorBoard及分布式。"
   ]
  },
  {
   "cell_type": "markdown",
   "metadata": {},
   "source": [
    "### 分布式环境\n",
    "\n",
    "思考如何用RunConfig来设置Estimator到分布式TF环境。\n",
    "\n",
    "参考https://www.tensorflow.org/api_docs/python/tf/estimator/RunConfig\n"
   ]
  },
  {
   "cell_type": "code",
   "execution_count": null,
   "metadata": {},
   "outputs": [],
   "source": []
  }
 ],
 "metadata": {
  "kernelspec": {
   "display_name": "Python 2",
   "language": "python",
   "name": "python2"
  },
  "language_info": {
   "codemirror_mode": {
    "name": "ipython",
    "version": 2
   },
   "file_extension": ".py",
   "mimetype": "text/x-python",
   "name": "python",
   "nbconvert_exporter": "python",
   "pygments_lexer": "ipython2",
   "version": "2.7.12"
  }
 },
 "nbformat": 4,
 "nbformat_minor": 2
}
